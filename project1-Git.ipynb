{
 "cells": [
  {
   "cell_type": "code",
   "execution_count": 24,
   "metadata": {},
   "outputs": [
    {
     "name": "stdout",
     "output_type": "stream",
     "text": [
      "Cancer nanotechnology: Enhancing tumor cell response to chemotherapy for hepatocellular carcinoma therapy - ScienceDirect \n",
      "\n",
      "ScienceDirect \n",
      "\n"
     ]
    },
    {
     "ename": "TypeError",
     "evalue": "write() argument must be str, not list",
     "output_type": "error",
     "traceback": [
      "\u001b[0;31m---------------------------------------------------------------------------\u001b[0m",
      "\u001b[0;31mTypeError\u001b[0m                                 Traceback (most recent call last)",
      "\u001b[0;32m<ipython-input-24-1c8d22015781>\u001b[0m in \u001b[0;36m<module>\u001b[0;34m\u001b[0m\n\u001b[1;32m     26\u001b[0m         \u001b[0mprint\u001b[0m\u001b[0;34m(\u001b[0m\u001b[0mx\u001b[0m\u001b[0;34m,\u001b[0m\u001b[0;34m\"\\n\"\u001b[0m\u001b[0;34m)\u001b[0m\u001b[0;34m\u001b[0m\u001b[0;34m\u001b[0m\u001b[0m\n\u001b[1;32m     27\u001b[0m     \u001b[0;32mwith\u001b[0m \u001b[0mopen\u001b[0m\u001b[0;34m(\u001b[0m\u001b[0;34m'Title.csv'\u001b[0m\u001b[0;34m,\u001b[0m \u001b[0;34m'w'\u001b[0m\u001b[0;34m)\u001b[0m \u001b[0;32mas\u001b[0m \u001b[0mf\u001b[0m\u001b[0;34m:\u001b[0m\u001b[0;34m\u001b[0m\u001b[0;34m\u001b[0m\u001b[0m\n\u001b[0;32m---> 28\u001b[0;31m         \u001b[0mf\u001b[0m\u001b[0;34m.\u001b[0m\u001b[0mwrite\u001b[0m\u001b[0;34m(\u001b[0m\u001b[0mdataList\u001b[0m\u001b[0;34m)\u001b[0m\u001b[0;34m\u001b[0m\u001b[0;34m\u001b[0m\u001b[0m\n\u001b[0m",
      "\u001b[0;31mTypeError\u001b[0m: write() argument must be str, not list"
     ]
    }
   ],
   "source": [
    "#Title\n",
    "\n",
    "import requests\n",
    "import io\n",
    "from bs4 import BeautifulSoup\n",
    "import csv\n",
    "\n",
    "path = [\"Cancer nanotechnology therapy - .html\",\"Fluid ScienceDirect.html\",\"Microfluidic bioprinting.html\",\n",
    "        \"Drug_resistence.html\",\"protein LAD.html\",\"The Horizon Scanning System.html\",\n",
    "        \"Antidepressants .html\",\"Skin metabolism.html\",\"The safety evaluation.html\",\n",
    "        \"Accelerated drug discovery.html\",\"The safety evaluation .html\",\"relationship between PTSD .html\",\n",
    "        \"The role of mitochondria.html\",\"Diagnosis of myocardial infarction.html\",\"Massage therapy .html\",\n",
    "        \"Coincidental impact .html\",\"Simvastatin Nanoliposome.html\",\"Fluidized bed granulation .html\",\n",
    "        \"What outcomes are important to patients .html\",\"Predicting time to dementia .html\",\"Sex-specific incident dementia .html\",\"The incidence of mild cognitive impairment.html\",\n",
    "       \"Trends in health service .html\"]\n",
    "\n",
    "for path in path:\n",
    "    \n",
    "    page = open(path,'r')\n",
    "    page = page.read()\n",
    "    soup = BeautifulSoup(page, 'html.parser')\n",
    "    dataList = []\n",
    "    for link in soup.find_all('title'):\n",
    "        dataList.append(link.text)\n",
    "    for x in dataList:\n",
    "        print(x,\"\\n\")\n",
    "    with open('Title.csv', 'w') as f:\n",
    "        f.write(dataList)"
   ]
  },
  {
   "cell_type": "code",
   "execution_count": 3,
   "metadata": {},
   "outputs": [
    {
     "name": "stdout",
     "output_type": "stream",
     "text": [
      "{'ReviewCancer nanotechnology: Enhancing tumor cell response to chemotherapy for hepatocellular carcinoma therapy': 'Author links open overlay panelYongbingSunaWenMabYuanyuanYangbMengxueHecAiminLicLeiBaidBinYueZhiqiangYub', 'Original Research PaperFluidized bed granulation of two APIs: QbD approach and development of a NIR in-line monitoring method': 'Author links open overlay panelAlexandruGavanaSoniaIurianaTiborCasianaAlinaPorfireaSebastianPoravbIoanaVoinaaAlexandruOpreacIoanTomutaa', 'ReviewPost screenDrug resistance: origins, evolution and characterization of genomic clones and the tumor ecosystem to optimize precise individualized therapy': 'Author links open overlay panelIoannis D.Kyrochristos12Demosthenes E.Ziogas13Dimitrios H.Roukos124'} \n",
      "\n"
     ]
    }
   ],
   "source": [
    "#Authors\n",
    "import itertools\n",
    "path = [\"Cancer nanotechnology therapy - .html\",\"Fluid ScienceDirect.html\",\"Drug_resistence.html\"]\n",
    "titlelist = []\n",
    "linelist = []\n",
    "for path in path:\n",
    "    page = open(path,'r')\n",
    "    page = page.read()\n",
    "    soup = BeautifulSoup(page, 'html.parser')\n",
    "    title = soup.find(\"h1\",{'class':\"Head u-font-serif u-h2 u-margin-s-ver\"}, id=\"screen-reader-main-title\")\n",
    "    titlelist.append(title.text)\n",
    "    line = soup.find(\"div\",{'class':\"AuthorGroups text-xs\"})\n",
    "    linelist.append(line.text)\n",
    "adict = dict(zip(titlelist,linelist))\n",
    "print(adict,\"\\n\")\n",
    "    "
   ]
  },
  {
   "cell_type": "code",
   "execution_count": 4,
   "metadata": {},
   "outputs": [
    {
     "name": "stdout",
     "output_type": "stream",
     "text": [
      "•The mechanisms underlying cancer drug resistance remain poorly understood.•Genomic clones or interaction networks drive therapeutic resistance.•Genetic, genomic and transcriptional heterogeneity dictate individualized precise therapy.•A clinico-genomic network model could speed up the advent of precision oncology. \n",
      "\n",
      "•Bioprinting can be used to fabricate organ-on-a-chip models owing to its ability to print multiple materials and cell types simultaneously with good spatial resolution and reproducibility.•The combination of bioprinting with microfluidic organ-on-a-chip technologies enables the creation of a biomimetic microenvironment with a heterogeneous 3D structure.•Functional tissue structure can be printed directly on microfluidic chips using computerized printing programs. \n",
      "\n"
     ]
    }
   ],
   "source": [
    "#Highlights\n",
    "path = [\"Drug_resistence.html\",\"Microfluidic bioprinting.html\"]\n",
    "for path in path:\n",
    "    page = open(path,'r')\n",
    "    page = page.read()\n",
    "    soup = BeautifulSoup(page, 'html.parser')\n",
    "    Highlights = []\n",
    "    Highlight = soup.find(\"div\",{'id':\"abst0005\"})\n",
    "    Highlights.append(Highlight.text)\n",
    "    for x in Highlights:\n",
    "        print(x,\"\\n\")\n",
    "    \n",
    "\n"
   ]
  },
  {
   "cell_type": "code",
   "execution_count": 5,
   "metadata": {},
   "outputs": [
    {
     "name": "stdout",
     "output_type": "stream",
     "text": [
      "KeywordsThrombusThrombolysisTargeted therapyDrug delivery system \n",
      "\n"
     ]
    }
   ],
   "source": [
    "#Keywords\n",
    "\n",
    "path = [\"Recent strategies of thrombolytics .html\"]\n",
    "for path in path:\n",
    "    page = open(path,'r')\n",
    "    page = page.read()\n",
    "    soup = BeautifulSoup(page, 'html.parser')\n",
    "    Keywords = []\n",
    "    keyword = soup.find(\"div\",{'id':\"keys0001\"},{'class':\"keywords-section\"})\n",
    "    Keywords.append(keyword.text)\n",
    "    for x in Keywords:\n",
    "        print(x,\"\\n\")"
   ]
  },
  {
   "cell_type": "code",
   "execution_count": 8,
   "metadata": {},
   "outputs": [
    {
     "name": "stdout",
     "output_type": "stream",
     "text": [
      "./Recent strategies of thrombolytics _files/elsevier-non-solus-new-grey.svg\n",
      "./Recent strategies of thrombolytics _files/1-s2.0-S181808761831208X-fx1.sml\n",
      "./Recent strategies of thrombolytics _files/1-s2.0-S181808761831208X-gr1.sml\n",
      "./Recent strategies of thrombolytics _files/1-s2.0-S181808761831208X-gr2.sml\n",
      "./Recent strategies of thrombolytics _files/1-s2.0-S181808761831208X-gr3.sml\n",
      "./Recent strategies of thrombolytics _files/1-s2.0-S181808761831208X-gr4.sml\n",
      "./Recent strategies of thrombolytics _files/1-s2.0-S181808761831208X-gr5.sml\n",
      "./Recent strategies of thrombolytics _files/D18180876.gif\n",
      "./Recent strategies of thrombolytics _files/1-s2.0-S1818087619X00045-cov150h.gif\n",
      "./Recent strategies of thrombolytics _files/1-s2.0-S181808761831208X-fx1.jpg\n",
      "./Recent strategies of thrombolytics _files/1-s2.0-S181808761831208X-gr1.jpg\n",
      "./Recent strategies of thrombolytics _files/1-s2.0-S181808761831208X-gr2.jpg\n",
      "./Recent strategies of thrombolytics _files/1-s2.0-S181808761831208X-gr3.jpg\n",
      "./Recent strategies of thrombolytics _files/1-s2.0-S181808761831208X-gr4.jpg\n",
      "./Recent strategies of thrombolytics _files/sbnd\n",
      "./Recent strategies of thrombolytics _files/1-s2.0-S181808761831208X-gr5.jpg\n",
      "./Recent strategies of thrombolytics _files/plumx-inverse-logo.png\n",
      "./Recent strategies of thrombolytics _files/plumx-logo.png\n",
      "./Recent strategies of thrombolytics _files/wordmark-elsevier.svg\n"
     ]
    }
   ],
   "source": [
    "#images\n",
    "from PIL import Image\n",
    "path = [\"Recent strategies of thrombolytics .html\"]\n",
    "\n",
    "for path in path:\n",
    "    \n",
    "    page = open(path,'r')\n",
    "    page = page.read()\n",
    "    soup = BeautifulSoup(page, 'html.parser')\n",
    "    images = soup.find_all(\"img\")\n",
    "    for image in images:\n",
    "        print(image[\"src\"])\n",
    "        "
   ]
  },
  {
   "cell_type": "code",
   "execution_count": 10,
   "metadata": {},
   "outputs": [
    {
     "name": "stdout",
     "output_type": "stream",
     "text": [
      "Tables (2)Table 1Table 2\n"
     ]
    }
   ],
   "source": [
    "#Tables\n",
    "table = soup.find(\"div\",{'class':\"Tables\"})\n",
    "print(table.text)"
   ]
  },
  {
   "cell_type": "code",
   "execution_count": null,
   "metadata": {},
   "outputs": [],
   "source": []
  }
 ],
 "metadata": {
  "kernelspec": {
   "display_name": "Python 3",
   "language": "python",
   "name": "python3"
  },
  "language_info": {
   "codemirror_mode": {
    "name": "ipython",
    "version": 3
   },
   "file_extension": ".py",
   "mimetype": "text/x-python",
   "name": "python",
   "nbconvert_exporter": "python",
   "pygments_lexer": "ipython3",
   "version": "3.7.3"
  }
 },
 "nbformat": 4,
 "nbformat_minor": 2
}
