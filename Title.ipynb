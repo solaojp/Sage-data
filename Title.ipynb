{
 "cells": [
  {
   "cell_type": "code",
   "execution_count": null,
   "metadata": {},
   "outputs": [],
   "source": [
    "#Getting Titles from html pages\n",
    "import requests\n",
    "import io\n",
    "from bs4 import BeautifulSoup\n",
    "import csv\n",
    "import pandas as pd   \n",
    "from pandas import DataFrame\n",
    "\n",
    "path = [\"Cancer nanotechnology therapy - .html\",\"Fluid ScienceDirect.html\",\"Microfluidic bioprinting.html\",\n",
    "        \"Drug_resistence.html\",\"protein LAD.html\",\"The Horizon Scanning System.html\",\n",
    "        \"Antidepressants .html\",\"Skin metabolism.html\",\"The safety evaluation.html\",\n",
    "        \"Accelerated drug discovery.html\",\"The safety evaluation .html\",\"relationship between PTSD .html\",\n",
    "        \"The role of mitochondria.html\",\"Diagnosis of myocardial infarction.html\",\"Massage therapy .html\",\n",
    "        \"Coincidental impact .html\",\"Simvastatin Nanoliposome.html\",\"Fluidized bed granulation .html\",\n",
    "        \"What outcomes are important to patients .html\",\"Predicting time to dementia .html\",\"Sex-specific incident dementia .html\",\n",
    "        \"The incidence of mild cognitive impairment.html\",\"Trends in health service .html\",\"Drug_resistence.html\",\"Microfluidic bioprinting.html\"]\n",
    "dataList = []\n",
    "for path in path:\n",
    "    page = open(path,'r')\n",
    "    page = page.read()\n",
    "    soup = BeautifulSoup(page, 'html.parser')\n",
    "   \n",
    "    for link in soup.find_all('title'):\n",
    "        \n",
    "        dataList.append(link.text)\n",
    "    #for x in dataList:\n",
    "        #print(x,\"\\n\")\n",
    "df = DataFrame(dataList,columns = [\"para\"])\n",
    "print(df)\n",
    "df.to_csv(\"Title.csv\")"
   ]
  }
 ],
 "metadata": {
  "kernelspec": {
   "display_name": "Python 3",
   "language": "python",
   "name": "python3"
  },
  "language_info": {
   "codemirror_mode": {
    "name": "ipython",
    "version": 3
   },
   "file_extension": ".py",
   "mimetype": "text/x-python",
   "name": "python",
   "nbconvert_exporter": "python",
   "pygments_lexer": "ipython3",
   "version": "3.7.3"
  }
 },
 "nbformat": 4,
 "nbformat_minor": 2
}
