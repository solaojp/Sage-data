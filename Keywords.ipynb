{
 "cells": [
  {
   "cell_type": "code",
   "execution_count": null,
   "metadata": {},
   "outputs": [],
   "source": [
    "#Keywords\n",
    "\n",
    "path = [\"Sustainable grazing management .html\",\n",
    "       \"Cancer nanotechnology therapy - .html\",\"Fluid ScienceDirect.html\",\"Decreasing ammonia loss.html\",\n",
    "       \"Herbicide resistance .html\",\"Impact of transition .html\",\"Ground cover management .html\",\"Fertilised soil solution.html\",\n",
    "       \"Simulation based optimization.html\",\"Influence of initial orientations .html\",\"Detection of cow mounting .html\",\n",
    "       \"Novel methodologies .html\",\"Vision-based monitoring .html\",\"Dynamic evaluation of airflow.html\",\n",
    "       \"Monitoring of the core body temperature .html\",\n",
    "        \"The role of mitochondria.html\",\"Challenges and solutions.html\",\"Evolution of soil .html\",\n",
    "         \"Contribution of agroforestry.html\"]\n",
    "Keywords = []\n",
    "for path in path:\n",
    "    page = open(path,'r')\n",
    "    page = page.read()\n",
    "    soup = BeautifulSoup(page, 'html.parser')\n",
    "    keyword = soup.find(\"div\",{'class':\"keywords-section\"},{\"id\":\"kwd005\"})\n",
    "    Keywords.append(keyword.text)\n",
    "    #for x in Keywords:\n",
    "       # print(x,\"\\n\")\n",
    "df4 = pd.DataFrame(Keywords)\n",
    "df4.to_csv(\"Keywords.csv\")    "
   ]
  }
 ],
 "metadata": {
  "kernelspec": {
   "display_name": "Python 3",
   "language": "python",
   "name": "python3"
  },
  "language_info": {
   "codemirror_mode": {
    "name": "ipython",
    "version": 3
   },
   "file_extension": ".py",
   "mimetype": "text/x-python",
   "name": "python",
   "nbconvert_exporter": "python",
   "pygments_lexer": "ipython3",
   "version": "3.7.3"
  }
 },
 "nbformat": 4,
 "nbformat_minor": 2
}
