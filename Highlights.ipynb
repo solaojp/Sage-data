{
 "cells": [
  {
   "cell_type": "code",
   "execution_count": null,
   "metadata": {},
   "outputs": [],
   "source": [
    "#Extracting Highlighs and abstarcts from journals\n",
    "path = [\"Drug_resistence.html\",\"Microfluidic bioprinting.html\",\"protein LAD.html\",\"The Horizon Scanning System.html\",\n",
    "       \"Antidepressants .html\",\"Skin metabolism.html\",\"The safety evaluation.html\",\n",
    "        \"Accelerated drug discovery.html\",\"relationship between PTSD .html\",\n",
    "        \"The role of mitochondria.html\",\"Challenges and solutions.html\",\"Evolution of soil .html\",\n",
    "         \"Contribution of agroforestry.html\",\"Sustainable grazing management .html\",\n",
    "       \"Cancer nanotechnology therapy - .html\",\"Fluid ScienceDirect.html\",\"Decreasing ammonia loss.html\",\n",
    "       \"Herbicide resistance .html\",\"Impact of transition .html\",\"Ground cover management .html\",\"Fertilised soil solution.html\",\n",
    "       \"Simulation based optimization.html\",\"Influence of initial orientations .html\",\"Detection of cow mounting .html\",\n",
    "       \"Novel methodologies .html\",\"Vision-based monitoring .html\",\"Dynamic evaluation of airflow.html\",\n",
    "       \"Monitoring of the core body temperature .html\"]\n",
    "Highlights = []\n",
    "for path in path:\n",
    "    page = open(path,'r')\n",
    "    page = page.read()\n",
    "    soup = BeautifulSoup(page, 'html.parser')\n",
    "    Highlight = soup.find(\"div\",{\"class\":\"Abstracts u-font-serif\"},{'id':\"abstracts\"})\n",
    "    Highlights.append(Highlight.text)\n",
    "    for x in Highlights:\n",
    "        print(x,\"\\n\")\n",
    "df3 = pd.DataFrame(Highlights)\n",
    "df3.to_csv(\"Highlights.csv\")    \n"
   ]
  }
 ],
 "metadata": {
  "kernelspec": {
   "display_name": "Python 3",
   "language": "python",
   "name": "python3"
  },
  "language_info": {
   "codemirror_mode": {
    "name": "ipython",
    "version": 3
   },
   "file_extension": ".py",
   "mimetype": "text/x-python",
   "name": "python",
   "nbconvert_exporter": "python",
   "pygments_lexer": "ipython3",
   "version": "3.7.3"
  }
 },
 "nbformat": 4,
 "nbformat_minor": 2
}
