{
 "cells": [
  {
   "cell_type": "code",
   "execution_count": null,
   "metadata": {},
   "outputs": [],
   "source": [
    "#Authors\n",
    "import itertools\n",
    "path = [\"Cancer nanotechnology therapy - .html\",\"Fluid ScienceDirect.html\",\"Microfluidic bioprinting.html\",\n",
    "        \"Drug_resistence.html\",\"protein LAD.html\",\"The Horizon Scanning System.html\",\n",
    "        \"Antidepressants .html\",\"Skin metabolism.html\",\"The safety evaluation.html\",\n",
    "        \"Accelerated drug discovery.html\",\"The safety evaluation .html\",\"relationship between PTSD .html\",\n",
    "        \"The role of mitochondria.html\",\"Diagnosis of myocardial infarction.html\",\"Massage therapy .html\",\n",
    "        \"Coincidental impact .html\",\"Simvastatin Nanoliposome.html\",\"Fluidized bed granulation .html\",\n",
    "        \"What outcomes are important to patients .html\",\"Predicting time to dementia .html\",\"Sex-specific incident dementia .html\",\n",
    "        \"The incidence of mild cognitive impairment.html\",\"Trends in health service .html\",\"Drug_resistence.html\",\"Microfluidic bioprinting.html\",\n",
    "       \"Detection of cow mounting .html\",\n",
    "       \"Novel methodologies .html\",\"Vision-based monitoring .html\",\"Dynamic evaluation of airflow.html\",\n",
    "       \"Monitoring of the core body temperature .html\"]\n",
    "titlelist = []\n",
    "linelist = []\n",
    "for path in path:\n",
    "    page = open(path,'r')\n",
    "    page = page.read()\n",
    "    soup = BeautifulSoup(page, 'html.parser')\n",
    "    title = soup.find(\"h1\",{'class':\"Head u-font-serif u-h2 u-margin-s-ver\"}, id=\"screen-reader-main-title\")\n",
    "    titlelist.append(title.text)\n",
    "    line = soup.find(\"div\",{'class':\"AuthorGroups text-xs\"})\n",
    "    linelist.append(line.text)\n",
    "adict = dict(zip(titlelist,linelist))\n",
    "#print(adict,\"\\n\") \n",
    "df1 = pd.DataFrame(adict.items(),columns = ['Title','Authors'])\n",
    "df1.to_csv(\"Authors.csv\")"
   ]
  }
 ],
 "metadata": {
  "kernelspec": {
   "display_name": "Python 3",
   "language": "python",
   "name": "python3"
  },
  "language_info": {
   "codemirror_mode": {
    "name": "ipython",
    "version": 3
   },
   "file_extension": ".py",
   "mimetype": "text/x-python",
   "name": "python",
   "nbconvert_exporter": "python",
   "pygments_lexer": "ipython3",
   "version": "3.7.3"
  }
 },
 "nbformat": 4,
 "nbformat_minor": 2
}
